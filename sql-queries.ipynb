{
 "cells": [
  {
   "cell_type": "markdown",
   "metadata": {},
   "source": [
    "The following database diagram illustrates the Chinook database tables and their relationships.\n",
    "\n",
    "<img src=\"chinook-er-diagram.png\" alt=\"My Image\" style=\"width:500\">"
   ]
  },
  {
   "cell_type": "code",
   "execution_count": null,
   "metadata": {},
   "outputs": [],
   "source": [
    "%pip install ipython-sql"
   ]
  },
  {
   "cell_type": "code",
   "execution_count": 3,
   "metadata": {},
   "outputs": [],
   "source": [
    "%load_ext sql"
   ]
  },
  {
   "cell_type": "code",
   "execution_count": 4,
   "metadata": {},
   "outputs": [],
   "source": [
    "%sql sqlite:///chinook.db"
   ]
  },
  {
   "cell_type": "markdown",
   "metadata": {},
   "source": [
    "1. Provide a query only showing the Customers from Brazil."
   ]
  },
  {
   "cell_type": "code",
   "execution_count": 7,
   "metadata": {},
   "outputs": [
    {
     "name": "stdout",
     "output_type": "stream",
     "text": [
      " * sqlite:///chinook.db\n",
      "Done.\n"
     ]
    },
    {
     "data": {
      "text/html": [
       "<table>\n",
       "    <thead>\n",
       "        <tr>\n",
       "            <th>FullName</th>\n",
       "            <th>Country</th>\n",
       "            <th>CustomerId</th>\n",
       "        </tr>\n",
       "    </thead>\n",
       "    <tbody>\n",
       "        <tr>\n",
       "            <td>Luís Gonçalves</td>\n",
       "            <td>Brazil</td>\n",
       "            <td>1</td>\n",
       "        </tr>\n",
       "        <tr>\n",
       "            <td>Eduardo Martins</td>\n",
       "            <td>Brazil</td>\n",
       "            <td>10</td>\n",
       "        </tr>\n",
       "        <tr>\n",
       "            <td>Alexandre Rocha</td>\n",
       "            <td>Brazil</td>\n",
       "            <td>11</td>\n",
       "        </tr>\n",
       "        <tr>\n",
       "            <td>Roberto Almeida</td>\n",
       "            <td>Brazil</td>\n",
       "            <td>12</td>\n",
       "        </tr>\n",
       "        <tr>\n",
       "            <td>Fernanda Ramos</td>\n",
       "            <td>Brazil</td>\n",
       "            <td>13</td>\n",
       "        </tr>\n",
       "    </tbody>\n",
       "</table>"
      ],
      "text/plain": [
       "[('Luís Gonçalves', 'Brazil', 1),\n",
       " ('Eduardo Martins', 'Brazil', 10),\n",
       " ('Alexandre Rocha', 'Brazil', 11),\n",
       " ('Roberto Almeida', 'Brazil', 12),\n",
       " ('Fernanda Ramos', 'Brazil', 13)]"
      ]
     },
     "execution_count": 7,
     "metadata": {},
     "output_type": "execute_result"
    }
   ],
   "source": [
    "%%sql \n",
    "SELECT\n",
    "    FirstName ||' '|| LastName as FullName\n",
    "    , Country\n",
    "    , CustomerID\n",
    "FROM customers\n",
    "WHERE Country = 'Brazil';"
   ]
  },
  {
   "cell_type": "markdown",
   "metadata": {},
   "source": [
    "2. Provide a query showing only the Employees who are Sales Agents."
   ]
  },
  {
   "cell_type": "code",
   "execution_count": 11,
   "metadata": {},
   "outputs": [
    {
     "name": "stdout",
     "output_type": "stream",
     "text": [
      " * sqlite:///chinook.db\n",
      "Done.\n"
     ]
    },
    {
     "data": {
      "text/html": [
       "<table>\n",
       "    <thead>\n",
       "        <tr>\n",
       "            <th>EmployeeId</th>\n",
       "            <th>LastName</th>\n",
       "            <th>FirstName</th>\n",
       "            <th>Title</th>\n",
       "            <th>ReportsTo</th>\n",
       "            <th>BirthDate</th>\n",
       "            <th>HireDate</th>\n",
       "            <th>Address</th>\n",
       "            <th>City</th>\n",
       "            <th>State</th>\n",
       "            <th>Country</th>\n",
       "            <th>PostalCode</th>\n",
       "            <th>Phone</th>\n",
       "            <th>Fax</th>\n",
       "            <th>Email</th>\n",
       "        </tr>\n",
       "    </thead>\n",
       "    <tbody>\n",
       "        <tr>\n",
       "            <td>3</td>\n",
       "            <td>Peacock</td>\n",
       "            <td>Jane</td>\n",
       "            <td>Sales Support Agent</td>\n",
       "            <td>2</td>\n",
       "            <td>1973-08-29 00:00:00</td>\n",
       "            <td>2002-04-01 00:00:00</td>\n",
       "            <td>1111 6 Ave SW</td>\n",
       "            <td>Calgary</td>\n",
       "            <td>AB</td>\n",
       "            <td>Canada</td>\n",
       "            <td>T2P 5M5</td>\n",
       "            <td>+1 (403) 262-3443</td>\n",
       "            <td>+1 (403) 262-6712</td>\n",
       "            <td>jane@chinookcorp.com</td>\n",
       "        </tr>\n",
       "        <tr>\n",
       "            <td>4</td>\n",
       "            <td>Park</td>\n",
       "            <td>Margaret</td>\n",
       "            <td>Sales Support Agent</td>\n",
       "            <td>2</td>\n",
       "            <td>1947-09-19 00:00:00</td>\n",
       "            <td>2003-05-03 00:00:00</td>\n",
       "            <td>683 10 Street SW</td>\n",
       "            <td>Calgary</td>\n",
       "            <td>AB</td>\n",
       "            <td>Canada</td>\n",
       "            <td>T2P 5G3</td>\n",
       "            <td>+1 (403) 263-4423</td>\n",
       "            <td>+1 (403) 263-4289</td>\n",
       "            <td>margaret@chinookcorp.com</td>\n",
       "        </tr>\n",
       "        <tr>\n",
       "            <td>5</td>\n",
       "            <td>Johnson</td>\n",
       "            <td>Steve</td>\n",
       "            <td>Sales Support Agent</td>\n",
       "            <td>2</td>\n",
       "            <td>1965-03-03 00:00:00</td>\n",
       "            <td>2003-10-17 00:00:00</td>\n",
       "            <td>7727B 41 Ave</td>\n",
       "            <td>Calgary</td>\n",
       "            <td>AB</td>\n",
       "            <td>Canada</td>\n",
       "            <td>T3B 1Y7</td>\n",
       "            <td>1 (780) 836-9987</td>\n",
       "            <td>1 (780) 836-9543</td>\n",
       "            <td>steve@chinookcorp.com</td>\n",
       "        </tr>\n",
       "    </tbody>\n",
       "</table>"
      ],
      "text/plain": [
       "[(3, 'Peacock', 'Jane', 'Sales Support Agent', 2, '1973-08-29 00:00:00', '2002-04-01 00:00:00', '1111 6 Ave SW', 'Calgary', 'AB', 'Canada', 'T2P 5M5', '+1 (403) 262-3443', '+1 (403) 262-6712', 'jane@chinookcorp.com'),\n",
       " (4, 'Park', 'Margaret', 'Sales Support Agent', 2, '1947-09-19 00:00:00', '2003-05-03 00:00:00', '683 10 Street SW', 'Calgary', 'AB', 'Canada', 'T2P 5G3', '+1 (403) 263-4423', '+1 (403) 263-4289', 'margaret@chinookcorp.com'),\n",
       " (5, 'Johnson', 'Steve', 'Sales Support Agent', 2, '1965-03-03 00:00:00', '2003-10-17 00:00:00', '7727B 41 Ave', 'Calgary', 'AB', 'Canada', 'T3B 1Y7', '1 (780) 836-9987', '1 (780) 836-9543', 'steve@chinookcorp.com')]"
      ]
     },
     "execution_count": 11,
     "metadata": {},
     "output_type": "execute_result"
    }
   ],
   "source": [
    "%%sql\n",
    "SELECT\n",
    "    *\n",
    "FROM employees\n",
    "WHERE Title LIKE '%Sales%Agent%';"
   ]
  },
  {
   "cell_type": "markdown",
   "metadata": {},
   "source": [
    "3. Find the top 5 genres by the total sales amount."
   ]
  },
  {
   "cell_type": "code",
   "execution_count": 9,
   "metadata": {},
   "outputs": [
    {
     "name": "stdout",
     "output_type": "stream",
     "text": [
      " * sqlite:///chinook.db\n",
      "Done.\n"
     ]
    },
    {
     "data": {
      "text/html": [
       "<table>\n",
       "    <thead>\n",
       "        <tr>\n",
       "            <th>Genre</th>\n",
       "            <th>TotalSales</th>\n",
       "        </tr>\n",
       "    </thead>\n",
       "    <tbody>\n",
       "        <tr>\n",
       "            <td>Rock</td>\n",
       "            <td>826.65</td>\n",
       "        </tr>\n",
       "        <tr>\n",
       "            <td>Latin</td>\n",
       "            <td>382.14</td>\n",
       "        </tr>\n",
       "        <tr>\n",
       "            <td>Metal</td>\n",
       "            <td>261.36</td>\n",
       "        </tr>\n",
       "        <tr>\n",
       "            <td>Alternative &amp; Punk</td>\n",
       "            <td>241.56</td>\n",
       "        </tr>\n",
       "        <tr>\n",
       "            <td>TV Shows</td>\n",
       "            <td>93.53</td>\n",
       "        </tr>\n",
       "    </tbody>\n",
       "</table>"
      ],
      "text/plain": [
       "[('Rock', 826.65),\n",
       " ('Latin', 382.14),\n",
       " ('Metal', 261.36),\n",
       " ('Alternative & Punk', 241.56),\n",
       " ('TV Shows', 93.53)]"
      ]
     },
     "execution_count": 9,
     "metadata": {},
     "output_type": "execute_result"
    }
   ],
   "source": [
    "%%sql\n",
    "SELECT \n",
    "    g.Name AS Genre\n",
    "    , ROUND(SUM(ii.UnitPrice * ii.Quantity), 2) AS TotalSales\n",
    "FROM genres g\n",
    "JOIN tracks t ON g.GenreId = t.GenreId\n",
    "JOIN invoice_items ii ON t.TrackId = ii.TrackId\n",
    "GROUP BY g.Name\n",
    "ORDER BY TotalSales DESC\n",
    "LIMIT 5;"
   ]
  },
  {
   "cell_type": "markdown",
   "metadata": {},
   "source": [
    "4. Find the employee who has generated the highest amount in sales."
   ]
  },
  {
   "cell_type": "code",
   "execution_count": 11,
   "metadata": {},
   "outputs": [
    {
     "name": "stdout",
     "output_type": "stream",
     "text": [
      " * sqlite:///chinook.db\n",
      "Done.\n"
     ]
    },
    {
     "data": {
      "text/html": [
       "<table>\n",
       "    <thead>\n",
       "        <tr>\n",
       "            <th>FirstName</th>\n",
       "            <th>LastName</th>\n",
       "            <th>TotalSales</th>\n",
       "        </tr>\n",
       "    </thead>\n",
       "    <tbody>\n",
       "        <tr>\n",
       "            <td>Jane</td>\n",
       "            <td>Peacock</td>\n",
       "            <td>833.04</td>\n",
       "        </tr>\n",
       "    </tbody>\n",
       "</table>"
      ],
      "text/plain": [
       "[('Jane', 'Peacock', 833.04)]"
      ]
     },
     "execution_count": 11,
     "metadata": {},
     "output_type": "execute_result"
    }
   ],
   "source": [
    "%%sql\n",
    "SELECT \n",
    "    e.FirstName\n",
    "    , e.LastName\n",
    "    , ROUND(SUM(i.Total), 2) AS TotalSales\n",
    "FROM employees e\n",
    "JOIN customers c ON e.EmployeeId = c.SupportRepId\n",
    "JOIN invoices i ON c.CustomerId = i.CustomerId\n",
    "GROUP BY e.EmployeeId\n",
    "ORDER BY TotalSales DESC\n",
    "LIMIT 1;"
   ]
  },
  {
   "cell_type": "markdown",
   "metadata": {},
   "source": [
    "5. Retrieve the most popular artist by total number of tracks sold."
   ]
  },
  {
   "cell_type": "code",
   "execution_count": 12,
   "metadata": {},
   "outputs": [
    {
     "name": "stdout",
     "output_type": "stream",
     "text": [
      " * sqlite:///chinook.db\n",
      "Done.\n"
     ]
    },
    {
     "data": {
      "text/html": [
       "<table>\n",
       "    <thead>\n",
       "        <tr>\n",
       "            <th>Name</th>\n",
       "            <th>TotalTracksSold</th>\n",
       "        </tr>\n",
       "    </thead>\n",
       "    <tbody>\n",
       "        <tr>\n",
       "            <td>Iron Maiden</td>\n",
       "            <td>140</td>\n",
       "        </tr>\n",
       "    </tbody>\n",
       "</table>"
      ],
      "text/plain": [
       "[('Iron Maiden', 140)]"
      ]
     },
     "execution_count": 12,
     "metadata": {},
     "output_type": "execute_result"
    }
   ],
   "source": [
    "%%sql\n",
    "SELECT \n",
    "    ar.Name\n",
    "    , COUNT(ii.Quantity) AS TotalTracksSold\n",
    "FROM artists ar\n",
    "JOIN albums al ON ar.ArtistId = al.ArtistId\n",
    "JOIN tracks t ON al.AlbumId = t.AlbumId\n",
    "JOIN invoice_items ii ON t.TrackId = ii.TrackId\n",
    "GROUP BY ar.ArtistId\n",
    "ORDER BY TotalTracksSold DESC\n",
    "LIMIT 1;"
   ]
  },
  {
   "cell_type": "markdown",
   "metadata": {},
   "source": [
    "6. List all the albums that contain tracks of more than one genre."
   ]
  },
  {
   "cell_type": "code",
   "execution_count": 13,
   "metadata": {},
   "outputs": [
    {
     "name": "stdout",
     "output_type": "stream",
     "text": [
      " * sqlite:///chinook.db\n",
      "Done.\n"
     ]
    },
    {
     "data": {
      "text/html": [
       "<table>\n",
       "    <thead>\n",
       "        <tr>\n",
       "            <th>Title</th>\n",
       "        </tr>\n",
       "    </thead>\n",
       "    <tbody>\n",
       "        <tr>\n",
       "            <td>Unplugged</td>\n",
       "        </tr>\n",
       "        <tr>\n",
       "            <td>Live After Death</td>\n",
       "        </tr>\n",
       "        <tr>\n",
       "            <td>Rock In Rio [CD2]</td>\n",
       "        </tr>\n",
       "        <tr>\n",
       "            <td>The Number of The Beast</td>\n",
       "        </tr>\n",
       "        <tr>\n",
       "            <td>Greatest Hits</td>\n",
       "        </tr>\n",
       "        <tr>\n",
       "            <td>Battlestar Galactica, Season 3</td>\n",
       "        </tr>\n",
       "        <tr>\n",
       "            <td>Heroes, Season 1</td>\n",
       "        </tr>\n",
       "        <tr>\n",
       "            <td>Lost, Season 3</td>\n",
       "        </tr>\n",
       "        <tr>\n",
       "            <td>Lost, Season 2</td>\n",
       "        </tr>\n",
       "        <tr>\n",
       "            <td>The Office, Season 3</td>\n",
       "        </tr>\n",
       "        <tr>\n",
       "            <td>LOST, Season 4</td>\n",
       "        </tr>\n",
       "    </tbody>\n",
       "</table>"
      ],
      "text/plain": [
       "[('Unplugged',),\n",
       " ('Live After Death',),\n",
       " ('Rock In Rio [CD2]',),\n",
       " ('The Number of The Beast',),\n",
       " ('Greatest Hits',),\n",
       " ('Battlestar Galactica, Season 3',),\n",
       " ('Heroes, Season 1',),\n",
       " ('Lost, Season 3',),\n",
       " ('Lost, Season 2',),\n",
       " ('The Office, Season 3',),\n",
       " ('LOST, Season 4',)]"
      ]
     },
     "execution_count": 13,
     "metadata": {},
     "output_type": "execute_result"
    }
   ],
   "source": [
    "%%sql \n",
    "SELECT \n",
    "    al.Title\n",
    "FROM albums al\n",
    "JOIN tracks t ON al.AlbumId = t.AlbumId\n",
    "GROUP BY al.AlbumId\n",
    "HAVING COUNT(DISTINCT t.GenreId) > 1;"
   ]
  },
  {
   "cell_type": "markdown",
   "metadata": {},
   "source": [
    "7. Find the average length (in milliseconds) of tracks in each media type."
   ]
  },
  {
   "cell_type": "code",
   "execution_count": 15,
   "metadata": {},
   "outputs": [
    {
     "name": "stdout",
     "output_type": "stream",
     "text": [
      " * sqlite:///chinook.db\n",
      "Done.\n"
     ]
    },
    {
     "data": {
      "text/html": [
       "<table>\n",
       "    <thead>\n",
       "        <tr>\n",
       "            <th>MediaType</th>\n",
       "            <th>AvgTrackLength</th>\n",
       "        </tr>\n",
       "    </thead>\n",
       "    <tbody>\n",
       "        <tr>\n",
       "            <td>MPEG audio file</td>\n",
       "            <td>265574.0</td>\n",
       "        </tr>\n",
       "        <tr>\n",
       "            <td>Protected AAC audio file</td>\n",
       "            <td>281724.0</td>\n",
       "        </tr>\n",
       "        <tr>\n",
       "            <td>Protected MPEG-4 video file</td>\n",
       "            <td>2342940.0</td>\n",
       "        </tr>\n",
       "        <tr>\n",
       "            <td>Purchased AAC audio file</td>\n",
       "            <td>260895.0</td>\n",
       "        </tr>\n",
       "        <tr>\n",
       "            <td>AAC audio file</td>\n",
       "            <td>276507.0</td>\n",
       "        </tr>\n",
       "    </tbody>\n",
       "</table>"
      ],
      "text/plain": [
       "[('MPEG audio file', 265574.0),\n",
       " ('Protected AAC audio file', 281724.0),\n",
       " ('Protected MPEG-4 video file', 2342940.0),\n",
       " ('Purchased AAC audio file', 260895.0),\n",
       " ('AAC audio file', 276507.0)]"
      ]
     },
     "execution_count": 15,
     "metadata": {},
     "output_type": "execute_result"
    }
   ],
   "source": [
    "%%sql\n",
    "SELECT \n",
    "    mt.Name AS MediaType\n",
    "    , ROUND(AVG(t.Milliseconds)) AS AvgTrackLength\n",
    "FROM media_types mt\n",
    "JOIN tracks t ON mt.MediaTypeId = t.MediaTypeId\n",
    "GROUP BY mt.MediaTypeId;"
   ]
  },
  {
   "cell_type": "markdown",
   "metadata": {},
   "source": [
    "8. Find the total sales amount for each customer along with the customer's rank based on their total sales amount."
   ]
  },
  {
   "cell_type": "code",
   "execution_count": 27,
   "metadata": {},
   "outputs": [
    {
     "name": "stdout",
     "output_type": "stream",
     "text": [
      " * sqlite:///chinook.db\n",
      "Done.\n"
     ]
    },
    {
     "data": {
      "text/html": [
       "<table>\n",
       "    <thead>\n",
       "        <tr>\n",
       "            <th>FirstName</th>\n",
       "            <th>LastName</th>\n",
       "            <th>TotalSales</th>\n",
       "            <th>SalesRank</th>\n",
       "        </tr>\n",
       "    </thead>\n",
       "    <tbody>\n",
       "        <tr>\n",
       "            <td>Helena</td>\n",
       "            <td>Holý</td>\n",
       "            <td>49.62</td>\n",
       "            <td>1</td>\n",
       "        </tr>\n",
       "        <tr>\n",
       "            <td>Richard</td>\n",
       "            <td>Cunningham</td>\n",
       "            <td>47.62</td>\n",
       "            <td>2</td>\n",
       "        </tr>\n",
       "        <tr>\n",
       "            <td>Luis</td>\n",
       "            <td>Rojas</td>\n",
       "            <td>46.62</td>\n",
       "            <td>3</td>\n",
       "        </tr>\n",
       "        <tr>\n",
       "            <td>Ladislav</td>\n",
       "            <td>Kovács</td>\n",
       "            <td>45.62</td>\n",
       "            <td>4</td>\n",
       "        </tr>\n",
       "        <tr>\n",
       "            <td>Hugh</td>\n",
       "            <td>O&#x27;Reilly</td>\n",
       "            <td>45.62</td>\n",
       "            <td>4</td>\n",
       "        </tr>\n",
       "    </tbody>\n",
       "</table>"
      ],
      "text/plain": [
       "[('Helena', 'Holý', 49.62, 1),\n",
       " ('Richard', 'Cunningham', 47.62, 2),\n",
       " ('Luis', 'Rojas', 46.62, 3),\n",
       " ('Ladislav', 'Kovács', 45.62, 4),\n",
       " ('Hugh', \"O'Reilly\", 45.62, 4)]"
      ]
     },
     "execution_count": 27,
     "metadata": {},
     "output_type": "execute_result"
    }
   ],
   "source": [
    "%%sql\n",
    "SELECT \n",
    "    c.FirstName\n",
    "    , c.LastName\n",
    "    , ROUND(SUM(i.Total), 2) AS TotalSales\n",
    "    , RANK() OVER (ORDER BY SUM(i.Total) DESC) AS SalesRank\n",
    "FROM customers c\n",
    "JOIN invoices i ON c.CustomerId = i.CustomerId\n",
    "GROUP BY c.CustomerId\n",
    "LIMIT 5;"
   ]
  },
  {
   "cell_type": "markdown",
   "metadata": {},
   "source": [
    "9. For each genre, list the top 3 most expensive tracks."
   ]
  },
  {
   "cell_type": "code",
   "execution_count": 29,
   "metadata": {},
   "outputs": [
    {
     "name": "stdout",
     "output_type": "stream",
     "text": [
      " * sqlite:///chinook.db\n",
      "Done.\n"
     ]
    },
    {
     "data": {
      "text/html": [
       "<table>\n",
       "    <thead>\n",
       "        <tr>\n",
       "            <th>TrackName</th>\n",
       "            <th>GenreName</th>\n",
       "            <th>UnitPrice</th>\n",
       "        </tr>\n",
       "    </thead>\n",
       "    <tbody>\n",
       "        <tr>\n",
       "            <td>For Those About To Rock (We Salute You)</td>\n",
       "            <td>Rock</td>\n",
       "            <td>0.99</td>\n",
       "        </tr>\n",
       "        <tr>\n",
       "            <td>Balls to the Wall</td>\n",
       "            <td>Rock</td>\n",
       "            <td>0.99</td>\n",
       "        </tr>\n",
       "        <tr>\n",
       "            <td>Fast As a Shark</td>\n",
       "            <td>Rock</td>\n",
       "            <td>0.99</td>\n",
       "        </tr>\n",
       "        <tr>\n",
       "            <td>Desafinado</td>\n",
       "            <td>Jazz</td>\n",
       "            <td>0.99</td>\n",
       "        </tr>\n",
       "        <tr>\n",
       "            <td>Garota De Ipanema</td>\n",
       "            <td>Jazz</td>\n",
       "            <td>0.99</td>\n",
       "        </tr>\n",
       "        <tr>\n",
       "            <td>Samba De Uma Nota Só (One Note Samba)</td>\n",
       "            <td>Jazz</td>\n",
       "            <td>0.99</td>\n",
       "        </tr>\n",
       "        <tr>\n",
       "            <td>Enter Sandman</td>\n",
       "            <td>Metal</td>\n",
       "            <td>0.99</td>\n",
       "        </tr>\n",
       "        <tr>\n",
       "            <td>Master Of Puppets</td>\n",
       "            <td>Metal</td>\n",
       "            <td>0.99</td>\n",
       "        </tr>\n",
       "        <tr>\n",
       "            <td>Harvester Of Sorrow</td>\n",
       "            <td>Metal</td>\n",
       "            <td>0.99</td>\n",
       "        </tr>\n",
       "    </tbody>\n",
       "</table>"
      ],
      "text/plain": [
       "[('For Those About To Rock (We Salute You)', 'Rock', 0.99),\n",
       " ('Balls to the Wall', 'Rock', 0.99),\n",
       " ('Fast As a Shark', 'Rock', 0.99),\n",
       " ('Desafinado', 'Jazz', 0.99),\n",
       " ('Garota De Ipanema', 'Jazz', 0.99),\n",
       " ('Samba De Uma Nota Só (One Note Samba)', 'Jazz', 0.99),\n",
       " ('Enter Sandman', 'Metal', 0.99),\n",
       " ('Master Of Puppets', 'Metal', 0.99),\n",
       " ('Harvester Of Sorrow', 'Metal', 0.99)]"
      ]
     },
     "execution_count": 29,
     "metadata": {},
     "output_type": "execute_result"
    }
   ],
   "source": [
    "%%sql \n",
    "WITH RankedTracks AS (\n",
    "    SELECT \n",
    "        t.Name AS TrackName\n",
    "        , g.Name AS GenreName\n",
    "        , t.UnitPrice\n",
    "        , ROW_NUMBER() OVER (PARTITION BY g.GenreId ORDER BY t.UnitPrice DESC) AS Rank\n",
    "    FROM tracks t\n",
    "    JOIN genres g ON t.GenreId = g.GenreId\n",
    ")\n",
    "SELECT TrackName, GenreName, UnitPrice\n",
    "FROM RankedTracks\n",
    "WHERE Rank <= 3\n",
    "LIMIT 9;"
   ]
  },
  {
   "cell_type": "markdown",
   "metadata": {},
   "source": [
    "10. Find the genres that account for more than 20% of the total track count in the database."
   ]
  },
  {
   "cell_type": "code",
   "execution_count": 22,
   "metadata": {},
   "outputs": [
    {
     "name": "stdout",
     "output_type": "stream",
     "text": [
      " * sqlite:///chinook.db\n",
      "Done.\n"
     ]
    },
    {
     "data": {
      "text/html": [
       "<table>\n",
       "    <thead>\n",
       "        <tr>\n",
       "            <th>Name</th>\n",
       "            <th>TrackCount</th>\n",
       "            <th>PercentageOfTotal</th>\n",
       "        </tr>\n",
       "    </thead>\n",
       "    <tbody>\n",
       "        <tr>\n",
       "            <td>Rock</td>\n",
       "            <td>1297</td>\n",
       "            <td>37.03</td>\n",
       "        </tr>\n",
       "    </tbody>\n",
       "</table>"
      ],
      "text/plain": [
       "[('Rock', 1297, 37.03)]"
      ]
     },
     "execution_count": 22,
     "metadata": {},
     "output_type": "execute_result"
    }
   ],
   "source": [
    "%%sql\n",
    "WITH GenreTrackCount AS (\n",
    "    SELECT \n",
    "        g.GenreId\n",
    "        , g.Name\n",
    "        , COUNT(t.TrackId) AS TrackCount\n",
    "    FROM genres g\n",
    "    JOIN tracks t ON g.GenreId = t.GenreId\n",
    "    GROUP BY g.GenreId\n",
    "),\n",
    "TotalTrackCount AS (\n",
    "    SELECT COUNT(*) AS TotalTracks\n",
    "    FROM tracks\n",
    ")\n",
    "SELECT gtc.Name, gtc.TrackCount,\n",
    "       ROUND((gtc.TrackCount * 1.0 / ttc.TotalTracks) * 100, 2) AS PercentageOfTotal\n",
    "FROM GenreTrackCount gtc\n",
    "CROSS JOIN TotalTrackCount ttc\n",
    "WHERE (gtc.TrackCount * 1.0 / ttc.TotalTracks) * 100 > 20;"
   ]
  },
  {
   "cell_type": "markdown",
   "metadata": {},
   "source": [
    "11. Determine the employees who have supported customers with a combined total spending of over $500."
   ]
  },
  {
   "cell_type": "code",
   "execution_count": 24,
   "metadata": {},
   "outputs": [
    {
     "name": "stdout",
     "output_type": "stream",
     "text": [
      " * sqlite:///chinook.db\n",
      "Done.\n"
     ]
    },
    {
     "data": {
      "text/html": [
       "<table>\n",
       "    <thead>\n",
       "        <tr>\n",
       "            <th>FirstName</th>\n",
       "            <th>LastName</th>\n",
       "            <th>TotalSpending</th>\n",
       "        </tr>\n",
       "    </thead>\n",
       "    <tbody>\n",
       "        <tr>\n",
       "            <td>Jane</td>\n",
       "            <td>Peacock</td>\n",
       "            <td>833.0</td>\n",
       "        </tr>\n",
       "        <tr>\n",
       "            <td>Margaret</td>\n",
       "            <td>Park</td>\n",
       "            <td>775.0</td>\n",
       "        </tr>\n",
       "        <tr>\n",
       "            <td>Steve</td>\n",
       "            <td>Johnson</td>\n",
       "            <td>720.0</td>\n",
       "        </tr>\n",
       "    </tbody>\n",
       "</table>"
      ],
      "text/plain": [
       "[('Jane', 'Peacock', 833.0),\n",
       " ('Margaret', 'Park', 775.0),\n",
       " ('Steve', 'Johnson', 720.0)]"
      ]
     },
     "execution_count": 24,
     "metadata": {},
     "output_type": "execute_result"
    }
   ],
   "source": [
    "%%sql \n",
    "WITH EmployeeCustomerSpending AS (\n",
    "    SELECT \n",
    "        e.EmployeeId\n",
    "        , e.FirstName\n",
    "        , e.LastName\n",
    "        , ROUND(SUM(i.Total)) AS TotalSpending\n",
    "    FROM employees e\n",
    "    JOIN customers c ON e.EmployeeId = c.SupportRepId\n",
    "    JOIN invoices i ON c.CustomerId = i.CustomerId\n",
    "    GROUP BY e.EmployeeId\n",
    ")\n",
    "SELECT FirstName, LastName, TotalSpending\n",
    "FROM EmployeeCustomerSpending\n",
    "WHERE TotalSpending > 500;"
   ]
  },
  {
   "cell_type": "markdown",
   "metadata": {},
   "source": [
    "12. Identify the top 5 tracks by total sales amount, along with their album and artist names."
   ]
  },
  {
   "cell_type": "code",
   "execution_count": 25,
   "metadata": {},
   "outputs": [
    {
     "name": "stdout",
     "output_type": "stream",
     "text": [
      " * sqlite:///chinook.db\n",
      "Done.\n"
     ]
    },
    {
     "data": {
      "text/html": [
       "<table>\n",
       "    <thead>\n",
       "        <tr>\n",
       "            <th>TrackName</th>\n",
       "            <th>AlbumTitle</th>\n",
       "            <th>ArtistName</th>\n",
       "            <th>TotalSales</th>\n",
       "        </tr>\n",
       "    </thead>\n",
       "    <tbody>\n",
       "        <tr>\n",
       "            <td>The Woman King</td>\n",
       "            <td>Battlestar Galactica, Season 3</td>\n",
       "            <td>Battlestar Galactica</td>\n",
       "            <td>3.98</td>\n",
       "        </tr>\n",
       "        <tr>\n",
       "            <td>The Fix</td>\n",
       "            <td>Heroes, Season 1</td>\n",
       "            <td>Heroes</td>\n",
       "            <td>3.98</td>\n",
       "        </tr>\n",
       "        <tr>\n",
       "            <td>Walkabout</td>\n",
       "            <td>Lost, Season 1</td>\n",
       "            <td>Lost</td>\n",
       "            <td>3.98</td>\n",
       "        </tr>\n",
       "        <tr>\n",
       "            <td>Hot Girl</td>\n",
       "            <td>The Office, Season 1</td>\n",
       "            <td>The Office</td>\n",
       "            <td>3.98</td>\n",
       "        </tr>\n",
       "        <tr>\n",
       "            <td>Gay Witch Hunt</td>\n",
       "            <td>The Office, Season 3</td>\n",
       "            <td>The Office</td>\n",
       "            <td>3.98</td>\n",
       "        </tr>\n",
       "    </tbody>\n",
       "</table>"
      ],
      "text/plain": [
       "[('The Woman King', 'Battlestar Galactica, Season 3', 'Battlestar Galactica', 3.98),\n",
       " ('The Fix', 'Heroes, Season 1', 'Heroes', 3.98),\n",
       " ('Walkabout', 'Lost, Season 1', 'Lost', 3.98),\n",
       " ('Hot Girl', 'The Office, Season 1', 'The Office', 3.98),\n",
       " ('Gay Witch Hunt', 'The Office, Season 3', 'The Office', 3.98)]"
      ]
     },
     "execution_count": 25,
     "metadata": {},
     "output_type": "execute_result"
    }
   ],
   "source": [
    "%%sql \n",
    "WITH TrackSales AS (\n",
    "    SELECT \n",
    "        t.TrackId\n",
    "        , t.Name AS TrackName\n",
    "        , al.Title AS AlbumTitle\n",
    "        , ar.Name AS ArtistName\n",
    "        , SUM(ii.UnitPrice * ii.Quantity) AS TotalSales\n",
    "    FROM tracks t\n",
    "    JOIN albums al ON t.AlbumId = al.AlbumId\n",
    "    JOIN artists ar ON al.ArtistId = ar.ArtistId\n",
    "    JOIN invoice_items ii ON t.TrackId = ii.TrackId\n",
    "    GROUP BY t.TrackId\n",
    ")\n",
    "SELECT TrackName, AlbumTitle, ArtistName, TotalSales\n",
    "FROM TrackSales\n",
    "ORDER BY TotalSales DESC\n",
    "LIMIT 5;"
   ]
  }
 ],
 "metadata": {
  "kernelspec": {
   "display_name": "base",
   "language": "python",
   "name": "python3"
  },
  "language_info": {
   "codemirror_mode": {
    "name": "ipython",
    "version": 3
   },
   "file_extension": ".py",
   "mimetype": "text/x-python",
   "name": "python",
   "nbconvert_exporter": "python",
   "pygments_lexer": "ipython3",
   "version": "3.11.7"
  }
 },
 "nbformat": 4,
 "nbformat_minor": 2
}
